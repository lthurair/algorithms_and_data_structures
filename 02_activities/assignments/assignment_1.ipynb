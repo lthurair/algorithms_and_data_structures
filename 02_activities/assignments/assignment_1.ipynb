{
 "cells": [
  {
   "cell_type": "markdown",
   "metadata": {},
   "source": [
    "# Coding Problems\n",
    "\n",
    "## Objective\n",
    "\n",
    "This assignment aims to demonstrate how to study a data structures or algorithms question in depth to prepare for an industry coding interview. Leetcode is a popular coding practice site that many use to practice for technical interviews. Like behavioral interviews, it's important to practice and keep your skills sharp.\n",
    "\n",
    "## Group Size\n",
    "\n",
    "Please complete this individually.\n",
    "\n",
    "## Part 1:\n",
    "\n",
    "_*You will be assigned one of three problems based of your first name. Enter your first name, in all lower case, execute the code below, and that will tell you your assigned problem. Include the output as part of your submission (do not clear the output). The problems are based-off problems from Leetcode.*_\n"
   ]
  },
  {
   "cell_type": "code",
   "execution_count": 2,
   "metadata": {},
   "outputs": [
    {
     "name": "stdout",
     "output_type": "stream",
     "text": [
      "2\n"
     ]
    }
   ],
   "source": [
    "import hashlib\n",
    "\n",
    "def hash_to_range(input_string: str) -> int:\n",
    "     hash_object = hashlib.sha256(input_string.encode())\n",
    "     hash_int = int(hash_object.hexdigest(), 16)\n",
    "     return (hash_int % 3) + 1\n",
    "input_string = \"lisa\"\n",
    "result = hash_to_range(input_string)\n",
    "print(result)\n"
   ]
  },
  {
   "cell_type": "markdown",
   "metadata": {},
   "source": [
    "<details>\n",
    "  <summary>Question 1</summary>\n",
    "\n",
    "  # Question One: Check Duplicates in Tree\n",
    "\n",
    "  Given the `root` of a binary tree, check whether it is contains a duplicate value. If a duplicate exists, return the duplicate value. If there are multiple duplicates, return the one with the closest distance to the root. If no duplicate exists, return -1.\n",
    "\n",
    "  ## Examples\n",
    "\n",
    "  ### Example 1\n",
    "\n",
    "  ![](./images/q1_ex1.png)\n",
    "\n",
    "  Input: `root = [1, 2, 2, 3, 5, 6, 7]` *What traversal method is this?*\n",
    "\n",
    "  Output: 2\n",
    "\n",
    "  ### Example 2\n",
    "\n",
    "  ![](./images/q1_ex2.png)\n",
    "\n",
    "  Input: `root = [1, 10, 2, 3, 10, 12, 12]`\n",
    "\n",
    "  Output: 10\n",
    "\n",
    "  ### Example 3\n",
    "\n",
    "  ![](./images/q1_ex3.png)\n",
    "\n",
    "  Input: `root = [10, 9, 8, 7]`\n",
    "\n",
    "  Output: -1\n",
    "\n",
    "</details>\n",
    "\n",
    "#### Starter Code for Question 1"
   ]
  },
  {
   "cell_type": "code",
   "execution_count": null,
   "metadata": {},
   "outputs": [],
   "source": [
    "# Definition for a binary tree node.\n",
    "# class TreeNode(object):\n",
    "#     def __init__(self, val = 0, left = None, right = None):\n",
    "#         self.val = val\n",
    "#         self.left = left\n",
    "#         self.right = right\n",
    "def is_duplicate(root: TreeNode) -> int:\n",
    "  # TODO"
   ]
  },
  {
   "cell_type": "markdown",
   "metadata": {},
   "source": [
    "<details>\n",
    "  <summary>Question 2</summary>\n",
    "\n",
    "  # Question Two: Path to Leaves\n",
    "\n",
    "  Given the `root` of a binary tree, return all root to leaf paths in any order.\n",
    "\n",
    "  ## Examples\n",
    "\n",
    "  ### Example 1\n",
    "\n",
    "  ![](./images/q1_ex1.png)\n",
    "\n",
    "  Input: `root = [1, 2, 2, 3, 5, 6, 7]` *What traversal method is this?* The traversal method is BFS (or Level Order Traversal)\n",
    "\n",
    "  Output: [[1, 2, 3], [1, 2, 5], [1, 2, 6], [1, 2, 7]]\n",
    "\n",
    "  ### Example 2\n",
    "\n",
    "  ![](./images/q1_ex3.png)\n",
    "\n",
    "  Input: `root = [10, 9, 7, 8]`\n",
    "\n",
    "  Output: [[10, 7], [10, 9, 8]]\n",
    "\n",
    "</details>\n",
    "\n",
    "#### Starter Code for Question 2"
   ]
  },
  {
   "cell_type": "code",
   "execution_count": 7,
   "metadata": {},
   "outputs": [],
   "source": [
    "# Definition for a binary tree node.\n",
    "from typing import List\n",
    "\n",
    "class TreeNode(object):\n",
    "     def __init__(self, val = 0, left = None, right = None):\n",
    "         self.val = val\n",
    "         self.left = left\n",
    "         self.right = right\n",
    "\n",
    "def bt_path(root: TreeNode) -> List[List[int]]:\n",
    "    \"\"\" Returns all root-to-leaf paths in a binary tree \"\"\"\n",
    "    result = []\n",
    "   \n",
    "    def dfs(node, path):\n",
    "        if not node:\n",
    "            return\n",
    "        path.append(node.val) \n",
    "       \n",
    "        if not node.left and not node.right:  # Leaf node reached\n",
    "            result.append(list(path))\n",
    "        else:\n",
    "            dfs(node.left, path)\n",
    "            dfs(node.right, path)\n",
    "       \n",
    "        path.pop()  # Backtrack\n",
    "   \n",
    "    dfs(root, [])\n",
    "    return result\n",
    "\n",
    "def build_tree_from_bfs(arr: List[int]) -> TreeNode:\n",
    "    \"\"\" Builds a binary tree from BFS input list \"\"\"\n",
    "    if not arr:\n",
    "        return None\n",
    "   \n",
    "    nodes = [TreeNode(val) for val in arr]\n",
    "    for i in range(len(arr)):\n",
    "        left_index = 2 * i + 1\n",
    "        right_index = 2 * i + 2\n",
    "        if left_index < len(arr):\n",
    "            nodes[i].left = nodes[left_index]\n",
    "        if right_index < len(arr):\n",
    "            nodes[i].right = nodes[right_index]\n",
    "   \n",
    "    return nodes[0]  # Root node"
   ]
  },
  {
   "cell_type": "code",
   "execution_count": null,
   "metadata": {},
   "outputs": [
    {
     "name": "stdout",
     "output_type": "stream",
     "text": [
      "[[1, 2, 3], [1, 2, 5], [1, 2, 6], [1, 2, 7]]\n"
     ]
    }
   ],
   "source": [
    "# Test example 1\n",
    "bfs_input1 = [1,2,2,3,5,6,7]\n",
    "root1= build_tree_from_bfs(bfs_input1)\n",
    "print(bt_path(root1))"
   ]
  },
  {
   "cell_type": "code",
   "execution_count": 10,
   "metadata": {},
   "outputs": [
    {
     "name": "stdout",
     "output_type": "stream",
     "text": [
      "[[10, 9, 8], [10, 7]]\n"
     ]
    }
   ],
   "source": [
    "# Test example 2\n",
    "bfs_input2 = [10, 9, 7, 8]\n",
    "root2= build_tree_from_bfs(bfs_input2)\n",
    "print(bt_path(root2))"
   ]
  },
  {
   "cell_type": "markdown",
   "metadata": {},
   "source": [
    "<details>\n",
    "  <summary>Question 3</summary>\n",
    "\n",
    "  # Question Three: Missing Number in Range\n",
    " \n",
    "  You are given a list containing `n` integers in the range `[0, n]`. Return a list of numbers that are missing from the range `[0, n]` of the array. If there is no missing number, return -1. Note, all the integers in the list may not be unique.\n",
    "  \n",
    "  ## Examples\n",
    "\n",
    "  ### Example 1\n",
    "\n",
    "  Input: `lst = [0, 2]`\n",
    "\n",
    "  Output: [1]\n",
    "\n",
    "  ### Example 2\n",
    "\n",
    "  Input: `lst = [5, 0, 1]`\n",
    "\n",
    "  Output: [2, 3, 4]\n",
    "\n",
    "  ### Example 3\n",
    "\n",
    "  Input: `lst = [6, 8, 2, 3, 5, 7, 0, 1, 10]`\n",
    "\n",
    "  Output: [4, 9]\n",
    "\n",
    "</details>\n",
    "\n",
    "#### Starter Code for Question 3\n"
   ]
  },
  {
   "cell_type": "code",
   "execution_count": null,
   "metadata": {},
   "outputs": [],
   "source": [
    "def missing_num(nums: List) -> int:\n",
    "  # TODO"
   ]
  },
  {
   "cell_type": "markdown",
   "metadata": {},
   "source": [
    "\n",
    "## Part 2:\n",
    "\n",
    "-   Paraphrase the problem in your own words\n"
   ]
  },
  {
   "cell_type": "markdown",
   "metadata": {},
   "source": [
    "The problem for Question 2 is to find all the paths of root to leaves for each binary tree where the traversal method is BFS (or Level Order Traversal) and by using depth-first search to explore all paths."
   ]
  },
  {
   "cell_type": "markdown",
   "metadata": {},
   "source": [
    "- In this .ipynb file, there are examples that illustrate how the code should work (the examples provided above). Create 2 new examples for the question you have been assigned, that demonstrate you understand the problem. For question 1 and 2, you don't need to create the tree demonstration, just the input and output.\n"
   ]
  },
  {
   "cell_type": "code",
   "execution_count": null,
   "metadata": {},
   "outputs": [
    {
     "name": "stdout",
     "output_type": "stream",
     "text": [
      "[[1, 2, 3], [1, 2, 5], [1, 2, 6], [1, 2, 7]]\n",
      "[[10, 9, 8], [10, 7]]\n"
     ]
    }
   ],
   "source": [
    "# Test example 1\n",
    "bfs_input1 = [1,2,2,3,5,6,7] # input\n",
    "root1= build_tree_from_bfs(bfs_input1)\n",
    "print(bt_path(root1)) # output\n",
    "\n",
    "# Test example 2\n",
    "bfs_input2 = [10, 9, 7, 8] #input\n",
    "root2= build_tree_from_bfs(bfs_input2)\n",
    "print(bt_path(root2)) # output"
   ]
  },
  {
   "cell_type": "markdown",
   "metadata": {},
   "source": [
    "\n",
    "-   Code the solution to your assigned problem in Python (code chunk). Try to find the best time and space complexity solution!\n"
   ]
  },
  {
   "cell_type": "code",
   "execution_count": null,
   "metadata": {},
   "outputs": [],
   "source": [
    "# Definition for a binary tree node.\n",
    "from typing import List\n",
    "\n",
    "class TreeNode(object):\n",
    "     def __init__(self, val = 0, left = None, right = None):\n",
    "         self.val = val\n",
    "         self.left = left\n",
    "         self.right = right\n",
    "\n",
    "def bt_path(root: TreeNode) -> List[List[int]]:\n",
    "    \"\"\" Returns all root-to-leaf paths in a binary tree \"\"\"\n",
    "    result = [] ## empty list; will store all the paths in here later\n",
    "   \n",
    "    def dfs(node, path):\n",
    "        if not node:\n",
    "            return # if node is None, return (this is the base case)\n",
    "        path.append(node.val) # Add the node value to the path\n",
    "       \n",
    "        if not node.left and not node.right:  # If leaf node is reached\n",
    "            result.append(list(path)) # Add the path to the result\n",
    "        else:\n",
    "            dfs(node.left, path) # Recursively call dfs on left child\n",
    "            dfs(node.right, path) # Recursively call dfs on right child\n",
    "       \n",
    "        path.pop()  # Backtrack: Remove the last node value from the path before returning\n",
    "   \n",
    "    dfs(root, []) # Call the dfs function with the root node and an empty path\n",
    "    return result\n",
    "\n",
    "def build_tree_from_bfs(arr: List[int]) -> TreeNode:\n",
    "    \"\"\" Builds a binary tree from BFS input list \"\"\"\n",
    "    if not arr:\n",
    "        return None # If the input list is empty, return None\n",
    "   \n",
    "    nodes = [TreeNode(val) for val in arr]\n",
    "    for i in range(len(arr)): # Iterate through the input list\n",
    "        left_index = 2 * i + 1  # Calculate the index of the left child\n",
    "        right_index = 2 * i + 2 # Calculate the index of the right child\n",
    "        if left_index < len(arr): # If the left index is within the bounds of the input list\n",
    "            nodes[i].left = nodes[left_index]   # Set the left child of the current node\n",
    "        if right_index < len(arr): # If the right index is within the bounds of the input list\n",
    "            nodes[i].right = nodes[right_index] # Set the right child of the current node\n",
    "   \n",
    "    return nodes[0]  # Root node is at index 0"
   ]
  },
  {
   "cell_type": "markdown",
   "metadata": {},
   "source": [
    "\n",
    "-   Explain why your solution works\n"
   ]
  },
  {
   "cell_type": "markdown",
   "metadata": {},
   "source": [
    "The solution consists of 2 main parts:\n",
    "1) building the binary tree from a BFS input list\n",
    "2) Using DFS to find all root to leaf paths\n",
    "\n",
    "The function takes a BFS input list representing the tree. It creates a list of TreeNode objects from the values. It links the left and right children using the formulas: \n",
    "\n",
    "        a) left child at 2*i + 1\n",
    "        b) right child at 2*i + 2\n",
    "\n",
    "Then, it returns the root node.\n",
    "\n",
    "It uses depth-first search (DFS) to explore all paths. It maintains a path list to track the current path from root to node. For the base case, if the node is None, return immediately. If a leaf node is found, append a copy of the path to the result. Continue the DFS on the node.left and node.right. To backtrack, use path.pop() to remove the last node after exploring its children."
   ]
  },
  {
   "cell_type": "markdown",
   "metadata": {},
   "source": [
    "\n",
    "-   Explain the problem’s time and space complexity\n"
   ]
  },
  {
   "cell_type": "markdown",
   "metadata": {},
   "source": [
    "The function consists of:\n",
    "1) building the tree from a BFS list: O(n)\n",
    "2) Finding all root-to-leaf paths using DFS: O(n) traversal\n",
    "3) Storing paths: Can be O(n^2) in the worst case\n",
    "\n",
    "##Time Complexity Explanation:\n",
    "1) tree construction is O(n) (linear):\n",
    "- The function *build_tree_from_bfs(arr)* iterates once through n elements\n",
    "- it assigns children using index calculations (O(1) operations per node) - constant\n",
    "\n",
    "So total time is O(n)\n",
    "\n",
    "2) Depth-first Search (DFS) Traversal is O(n) (linear):\n",
    "- each node is visited exactly once - O(n)\n",
    "- each recursive call processes only one node and its children\n",
    "- DFS ensures all nodes are explored once, so the traversal itself is O(n)\n",
    "\n",
    "3) Storing Paths:\n",
    "- best case (balanced tree with small paths): if each path has O(log(n)) length for a balanced tree and there are O(n/2) leaf nodes, then the total paths stored is O(n) (linear)\n",
    "- worst case (unbalanced tree with long paths): if the tree is unbalanced, each path has O(n) length and there can be O(n) paths, so the total storage would be O(n x n) = O(n^2) (quadratic)\n",
    "\n",
    "##Space Complexity Explanation:\n",
    "1) Tree storage O(n):  *build_tree_from_bfs(arr)* stores n nodes in memory\n",
    "2) Recursion depth: In a balanced tree (best case), the recursion depth is O(log(n)), which is the height of the tree. In an unbalanced tree (worst case), the recursion depth is O(n) when each node has 1 child.\n",
    "3) Storing Paths: In a balanced tree (best case), the paths stored result in O(n). In an unbalanced tree with long paths, the paths stored result in O(n^2).\n",
    "\n",
    "Total space complexity: \n",
    "- best case (balanced tree): O(n) + O(log(n)) + O(n) = O(n) - linear\n",
    "- worst case (unbalanced tree): O(n) + O(n) + O(n^2) = O(n^2) - quadratic"
   ]
  },
  {
   "cell_type": "markdown",
   "metadata": {},
   "source": [
    "\n",
    "-   Explain the thinking to an alternative solution (no coding required, but a classmate reading this should be able to code it up based off your text)\n"
   ]
  },
  {
   "cell_type": "markdown",
   "metadata": {},
   "source": [
    "An alternative solution is to use an iterative depth-first search (DFS) with an explicit stack instead of recursion. First, use a stack ([(node, path)]) to keep track of nodes and their paths. Then start with the root in the stack as (root, [root.val]). Then process the nodes iteratively by first popping from the stack. If it's a leaf node, store the current path. Otherwise, push its children onto the stack with their respective paths. Return all collected paths once the stack is empty.\n",
    "\n",
    "To implement, initialize an empty list (result) to store root-to-leaf paths. Then check for an empty tree. If the root is None, then return an empty list. Then initialzie a stack with the tuple (root, [root.val]), where the [root.val] is the current path. Then iterate until the stack is empty by first popping a (node, path) tuple. If the node is a leaf (no left or right children), append the path to the result. If the node has children, push them onto the stack, passing the updated path list. Return the result when the stack is empty."
   ]
  },
  {
   "cell_type": "markdown",
   "metadata": {},
   "source": [
    "## Evaluation Criteria\n",
    "\n",
    "-   Problem is accurately stated\n",
    "\n",
    "-   Two examples are correct and easily understandable\n",
    "\n",
    "-   Correctness, time, and space complexity of the coding solution\n",
    "\n",
    "-   Clarity in explaining why the solution works, its time and space complexity\n",
    "\n",
    "-   Clarity in the proposal to the alternative solution"
   ]
  },
  {
   "cell_type": "markdown",
   "metadata": {},
   "source": [
    "## Submission Information\n",
    "\n",
    "🚨 **Please review our [Assignment Submission Guide](https://github.com/UofT-DSI/onboarding/blob/main/onboarding_documents/submissions.md)** 🚨 for detailed instructions on how to format, branch, and submit your work. Following these guidelines is crucial for your submissions to be evaluated correctly.\n",
    "\n",
    "### Submission Parameters:\n",
    "* Submission Due Date: `HH:MM AM/PM - DD/MM/YYYY`\n",
    "* The branch name for your repo should be: `assignment-1`\n",
    "* What to submit for this assignment:\n",
    "    * This Jupyter Notebook (assignment_1.ipynb) should be populated and should be the only change in your pull request.\n",
    "* What the pull request link should look like for this assignment: `https://github.com/<your_github_username>/algorithms_and_data_structures/pull/<pr_id>`\n",
    "    * Open a private window in your browser. Copy and paste the link to your pull request into the address bar. Make sure you can see your pull request properly. This helps the technical facilitator and learning support staff review your submission easily.\n",
    "\n",
    "Checklist:\n",
    "- [ ] Create a branch called `assignment-1`.\n",
    "- [ ] Ensure that the repository is public.\n",
    "- [ ] Review [the PR description guidelines](https://github.com/UofT-DSI/onboarding/blob/main/onboarding_documents/submissions.md#guidelines-for-pull-request-descriptions) and adhere to them.\n",
    "- [ ] Verify that the link is accessible in a private browser window.\n",
    "\n",
    "If you encounter any difficulties or have questions, please don't hesitate to reach out to our team via our Slack at `#cohort-3-help`. Our Technical Facilitators and Learning Support staff are here to help you navigate any challenges."
   ]
  }
 ],
 "metadata": {
  "kernelspec": {
   "display_name": "dsi_participant",
   "language": "python",
   "name": "python3"
  },
  "language_info": {
   "codemirror_mode": {
    "name": "ipython",
    "version": 3
   },
   "file_extension": ".py",
   "mimetype": "text/x-python",
   "name": "python",
   "nbconvert_exporter": "python",
   "pygments_lexer": "ipython3",
   "version": "3.9.15"
  }
 },
 "nbformat": 4,
 "nbformat_minor": 2
}
