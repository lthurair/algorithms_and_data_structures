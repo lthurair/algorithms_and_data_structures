{
 "cells": [
  {
   "cell_type": "markdown",
   "metadata": {},
   "source": [
    "# Practice Interview\n",
    "\n",
    "## Objective\n",
    "\n",
    "_*The partner assignment aims to provide participants with the opportunity to practice coding in an interview context. You will analyze your partner's Assignment 1. Moreover, code reviews are common practice in a software development team. This assignment should give you a taste of the code review process.*_\n",
    "\n",
    "## Group Size\n",
    "\n",
    "Each group should have 2 people. You will be assigned a partner\n",
    "\n",
    "## Part 1:\n",
    "\n",
    "You and your partner must share each other's Assignment 1 submission."
   ]
  },
  {
   "cell_type": "markdown",
   "metadata": {},
   "source": [
    "\n",
    "## Part 2:\n",
    "\n",
    "Create a Jupyter Notebook, create 6 of the following headings, and complete the following for your partner's assignment 1:\n",
    "\n",
    "-   Paraphrase the problem in your own words.\n"
   ]
  },
  {
   "cell_type": "markdown",
   "metadata": {},
   "source": [
    "The problem to is from the root of the binary tree, to find any duplicate values. If there are duplicate values, return the duplicate value. However, if there are more than 1 duplicate value, then output the one that is closest to the root. If there are no duplicate values, then return -1."
   ]
  },
  {
   "cell_type": "markdown",
   "metadata": {},
   "source": [
    "\n",
    "-   Create 1 new example that demonstrates you understand the problem. Trace/walkthrough 1 example that your partner made and explain it.\n"
   ]
  },
  {
   "cell_type": "markdown",
   "metadata": {},
   "source": [
    "One new example I am making:\n",
    "\n",
    "Input root = [1, 2, 3, 2, 4, 5, 6]\n",
    "Expected output = 2\n",
    "\n",
    "Using BFS, the values to be popped off the stack will go in the order above. When value 2 is popped off, the other values will also be popped off and as soon as the other 2 is popped off, the code solution below will check that there are 2 occurances of that value. Since this is the first and only duplicate to occur, the value 2 will be outputted. \n",
    "\n",
    "One example that was in my partner's notebook was:\n",
    "\n",
    "Input root = [1, 10, 2, 3, 10, 12, 12]\n",
    "Expected output = 10\n",
    "\n",
    "The reason why the output is 10 is because the value 10 is the first to be popped off and then the code solution below checks to see if there is a duplicate as the other values are popped off, and the occurances are counted; if there is more than 2 occurances for that value, the first duplicate is outputted, which is 10 in this case and not 12.\n"
   ]
  },
  {
   "cell_type": "markdown",
   "metadata": {},
   "source": [
    "\n",
    "-   Copy the solution your partner wrote. \n"
   ]
  },
  {
   "cell_type": "code",
   "execution_count": null,
   "metadata": {},
   "outputs": [],
   "source": [
    "# Your answer here\n",
    "\n",
    "# Load\n",
    "from collections import deque, defaultdict\n",
    "\n",
    "# Define Tree\n",
    "class TreeNode(object):\n",
    "    def __init__(self, val=0, left=None, right=None):\n",
    "        self.val = val\n",
    "        self.left = left\n",
    "        self.right = right\n",
    "\n",
    "# Create function\n",
    "def is_duplicate(root: TreeNode) -> int:\n",
    "\n",
    "    # Use a queue for level order traversal (BFS)\n",
    "    queue = deque([root])\n",
    "\n",
    "    # Create a dictionary to track the number of times a value occurs\n",
    "    value_counts = defaultdict(int)\n",
    "\n",
    "    # Execute queue for level order traversal -> O(n)\n",
    "    while queue:\n",
    "\n",
    "        # Deque the first value on the left\n",
    "        node = queue.popleft()\n",
    "\n",
    "        # Count the # of occurances for the dequed value\n",
    "        value_counts[node.val] += 1\n",
    "        \n",
    "        # Add children to the queue\n",
    "        if node.left:\n",
    "            queue.append(node.left)\n",
    "        if node.right:\n",
    "            queue.append(node.right)\n",
    "        \n",
    "    print(value_counts)\n",
    "\n",
    "    # returns the first duplicate -> O(n)\n",
    "    for i in value_counts:\n",
    "        if value_counts[i] >= 2:\n",
    "            return i\n",
    "        \n",
    "    # Return -1 if no value occured twice\n",
    "    return -1"
   ]
  },
  {
   "cell_type": "code",
   "execution_count": null,
   "metadata": {},
   "outputs": [],
   "source": [
    "# Created a binary tree\n",
    "root = TreeNode(1)\n",
    "root.left = TreeNode(2) # Initial 2\n",
    "root.right = TreeNode(17)\n",
    "root.left.left = TreeNode(3) # Initial 3\n",
    "root.left.right = TreeNode(3) # Duplicate of 3\n",
    "root.left.left.left = TreeNode(5)\n",
    "root.left.left.right = TreeNode(6)\n",
    "root.right.left = TreeNode(7)\n",
    "root.right.right = TreeNode(8)\n",
    "root.right.right.left = TreeNode(2)  # Duplicate of 2\n",
    "root.right.right.right = TreeNode(19) \n",
    "\n",
    "# Expected output: 2\n",
    "print(is_duplicate(root))"
   ]
  },
  {
   "cell_type": "markdown",
   "metadata": {},
   "source": [
    "\n",
    "-   Explain why their solution works in your own words.\n"
   ]
  },
  {
   "cell_type": "markdown",
   "metadata": {},
   "source": [
    "My partner's solution works because he creates a dictionary and then dequeues every value from the left and checks to see if that value occurs more than once in the dictionary. Since the order of adding values in the dictionary goes from the left subtree and children to the right subtree and children, the order of values in the dictionary will be maintained, so if there are more than 1 duplicate value, the output will provide the duplicate value closest to the root, assuming left subtree is closest."
   ]
  },
  {
   "cell_type": "markdown",
   "metadata": {},
   "source": [
    "\n",
    "-   Explain the problem’s time and space complexity in your own words.\n"
   ]
  },
  {
   "cell_type": "markdown",
   "metadata": {},
   "source": [
    "The time complexity of the while loop is O(n) because it dequeues every value from the dictionary (queue) and counts the occurances. For the 'for loop', the time complexity is O(n) because it goes through every value in the dictionary and outputs if the count is more than 2; if there is no duplicate, then it returns -1. With the while loop and for loop together, the time complexity is both O(n). The space complexity of the queue is O(n) because the queue could store up to every node which could be unique and this would be O(n)."
   ]
  },
  {
   "cell_type": "markdown",
   "metadata": {},
   "source": [
    "\n",
    "-   Critique your partner's solution, including explanation, and if there is anything that should be adjusted.\n"
   ]
  },
  {
   "cell_type": "markdown",
   "metadata": {},
   "source": [
    "My partner's solution seems to use the best time and space complexity. Based on the examples provided in the notebook, he/she used the best approach which was BFS (Breadth-First Search), however if the examples had duplicate node values down the tree for example, then my partner would be better off using an alternative solution such as DFS (Depth-First Search). In DFS, the counting of each node value happens as you pop the node from the stack and then return the first node value that is duplicated."
   ]
  },
  {
   "cell_type": "markdown",
   "metadata": {},
   "source": [
    "\n",
    "## Part 3:\n",
    "\n",
    "Please write a 200 word reflection documenting your process from assignment 1, and your presentation and review experience with your partner at the bottom of the Jupyter Notebook under a new heading \"Reflection.\" Again, export this Notebook as pdf.\n"
   ]
  },
  {
   "cell_type": "markdown",
   "metadata": {},
   "source": [
    "### Reflection"
   ]
  },
  {
   "cell_type": "markdown",
   "metadata": {},
   "source": [
    "A reflection of my process from assignment 1 is that my solution has 2 main parts:\n",
    "1) building the binary tree from a BFS input list\n",
    "2) Using DFS to find all root to leaf paths\n",
    "\n",
    "An empty list is created to store the paths. The solution uses depth-first search (DFS) to explore all paths. It maintains a path list to track the current path from root to node. For the base case, if the node is None, return immediately. If a leaf node is found, append a copy of the path to the result. Continue the DFS on the node.left and node.right. To backtrack, use path.pop() to remove the last node after exploring its children.\n",
    "\n",
    "On the other hand, my partner's solution for his problem uses BFS (Breadth-First Search) to explore all paths. His solution creates a dictionary and then dequeues every value from the left and checks to see if that value occurs more than once in the dictionary. Since the order of adding values in the dictionary goes from the left subtree and children to the right subtree and children, the order of values in the dictionary will be maintained, so if there are more than 1 duplicate value, the output will provide the duplicate value closest to the root, assuming left subtree is closest."
   ]
  },
  {
   "cell_type": "markdown",
   "metadata": {},
   "source": [
    "\n",
    "## Evaluation Criteria\n",
    "\n",
    "We are looking for the similar points as Assignment 1\n",
    "\n",
    "-   Problem is accurately stated\n",
    "\n",
    "-   New example is correct and easily understandable\n",
    "\n",
    "-   Correctness, time, and space complexity of the coding solution\n",
    "\n",
    "-   Clarity in explaining why the solution works, its time and space complexity\n",
    "\n",
    "-   Quality of critique of your partner's assignment, if necessary\n"
   ]
  },
  {
   "cell_type": "markdown",
   "metadata": {},
   "source": [
    "## Submission Information\n",
    "\n",
    "🚨 **Please review our [Assignment Submission Guide](https://github.com/UofT-DSI/onboarding/blob/main/onboarding_documents/submissions.md)** 🚨 for detailed instructions on how to format, branch, and submit your work. Following these guidelines is crucial for your submissions to be evaluated correctly.\n",
    "\n",
    "### Submission Parameters:\n",
    "* Submission Due Date: `HH:MM AM/PM - DD/MM/YYYY`\n",
    "* The branch name for your repo should be: `assignment-2`\n",
    "* What to submit for this assignment:\n",
    "    * This Jupyter Notebook (assignment_2.ipynb) should be populated and should be the only change in your pull request.\n",
    "* What the pull request link should look like for this assignment: `https://github.com/<your_github_username>/algorithms_and_data_structures/pull/<pr_id>`\n",
    "    * Open a private window in your browser. Copy and paste the link to your pull request into the address bar. Make sure you can see your pull request properly. This helps the technical facilitator and learning support staff review your submission easily.\n",
    "\n",
    "Checklist:\n",
    "- [ ] Created a branch with the correct naming convention.\n",
    "- [ ] Ensured that the repository is public.\n",
    "- [ ] Reviewed the PR description guidelines and adhered to them.\n",
    "- [ ] Verify that the link is accessible in a private browser window.\n",
    "\n",
    "If you encounter any difficulties or have questions, please don't hesitate to reach out to our team via our Slack at `#cohort-3-help`. Our Technical Facilitators and Learning Support staff are here to help you navigate any challenges.\n"
   ]
  }
 ],
 "metadata": {
  "kernelspec": {
   "display_name": "dsi_participant",
   "language": "python",
   "name": "python3"
  },
  "language_info": {
   "name": "python",
   "version": "3.9.15"
  }
 },
 "nbformat": 4,
 "nbformat_minor": 2
}
